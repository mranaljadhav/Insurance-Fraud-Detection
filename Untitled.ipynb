{
 "cells": [
  {
   "cell_type": "code",
   "execution_count": 302,
   "metadata": {},
   "outputs": [],
   "source": [
    "import pandas as pd \n",
    "import numpy as np\n",
    "import matplotlib.pyplot as plt\n",
    "from sklearn.model_selection import train_test_split\n",
    "from sklearn.metrics import accuracy_score, confusion_matrix"
   ]
  },
  {
   "cell_type": "code",
   "execution_count": 303,
   "metadata": {
    "scrolled": true
   },
   "outputs": [
    {
     "data": {
      "text/html": [
       "<div>\n",
       "<style scoped>\n",
       "    .dataframe tbody tr th:only-of-type {\n",
       "        vertical-align: middle;\n",
       "    }\n",
       "\n",
       "    .dataframe tbody tr th {\n",
       "        vertical-align: top;\n",
       "    }\n",
       "\n",
       "    .dataframe thead th {\n",
       "        text-align: right;\n",
       "    }\n",
       "</style>\n",
       "<table border=\"1\" class=\"dataframe\">\n",
       "  <thead>\n",
       "    <tr style=\"text-align: right;\">\n",
       "      <th></th>\n",
       "      <th>months_as_customer</th>\n",
       "      <th>age</th>\n",
       "      <th>policy_number</th>\n",
       "      <th>policy_bind_date</th>\n",
       "      <th>policy_state</th>\n",
       "      <th>policy_csl</th>\n",
       "      <th>policy_deductable</th>\n",
       "      <th>policy_annual_premium</th>\n",
       "      <th>umbrella_limit</th>\n",
       "      <th>insured_zip</th>\n",
       "      <th>...</th>\n",
       "      <th>witnesses</th>\n",
       "      <th>police_report_available</th>\n",
       "      <th>total_claim_amount</th>\n",
       "      <th>injury_claim</th>\n",
       "      <th>property_claim</th>\n",
       "      <th>vehicle_claim</th>\n",
       "      <th>auto_make</th>\n",
       "      <th>auto_model</th>\n",
       "      <th>auto_year</th>\n",
       "      <th>fraud_reported</th>\n",
       "    </tr>\n",
       "  </thead>\n",
       "  <tbody>\n",
       "    <tr>\n",
       "      <th>0</th>\n",
       "      <td>328</td>\n",
       "      <td>48</td>\n",
       "      <td>521585</td>\n",
       "      <td>10/17/2014</td>\n",
       "      <td>OH</td>\n",
       "      <td>250/500</td>\n",
       "      <td>1000</td>\n",
       "      <td>1406.91</td>\n",
       "      <td>0</td>\n",
       "      <td>466132</td>\n",
       "      <td>...</td>\n",
       "      <td>2</td>\n",
       "      <td>YES</td>\n",
       "      <td>71610</td>\n",
       "      <td>6510</td>\n",
       "      <td>13020</td>\n",
       "      <td>52080</td>\n",
       "      <td>Saab</td>\n",
       "      <td>92x</td>\n",
       "      <td>2004</td>\n",
       "      <td>Y</td>\n",
       "    </tr>\n",
       "    <tr>\n",
       "      <th>1</th>\n",
       "      <td>228</td>\n",
       "      <td>42</td>\n",
       "      <td>342868</td>\n",
       "      <td>6/27/2006</td>\n",
       "      <td>IN</td>\n",
       "      <td>250/500</td>\n",
       "      <td>2000</td>\n",
       "      <td>1197.22</td>\n",
       "      <td>5000000</td>\n",
       "      <td>468176</td>\n",
       "      <td>...</td>\n",
       "      <td>0</td>\n",
       "      <td>?</td>\n",
       "      <td>5070</td>\n",
       "      <td>780</td>\n",
       "      <td>780</td>\n",
       "      <td>3510</td>\n",
       "      <td>Mercedes</td>\n",
       "      <td>E400</td>\n",
       "      <td>2007</td>\n",
       "      <td>Y</td>\n",
       "    </tr>\n",
       "    <tr>\n",
       "      <th>2</th>\n",
       "      <td>134</td>\n",
       "      <td>29</td>\n",
       "      <td>687698</td>\n",
       "      <td>9/6/2000</td>\n",
       "      <td>OH</td>\n",
       "      <td>100/300</td>\n",
       "      <td>2000</td>\n",
       "      <td>1413.14</td>\n",
       "      <td>5000000</td>\n",
       "      <td>430632</td>\n",
       "      <td>...</td>\n",
       "      <td>3</td>\n",
       "      <td>NO</td>\n",
       "      <td>34650</td>\n",
       "      <td>7700</td>\n",
       "      <td>3850</td>\n",
       "      <td>23100</td>\n",
       "      <td>Dodge</td>\n",
       "      <td>RAM</td>\n",
       "      <td>2007</td>\n",
       "      <td>N</td>\n",
       "    </tr>\n",
       "    <tr>\n",
       "      <th>3</th>\n",
       "      <td>256</td>\n",
       "      <td>41</td>\n",
       "      <td>227811</td>\n",
       "      <td>5/25/1990</td>\n",
       "      <td>IL</td>\n",
       "      <td>250/500</td>\n",
       "      <td>2000</td>\n",
       "      <td>1415.74</td>\n",
       "      <td>6000000</td>\n",
       "      <td>608117</td>\n",
       "      <td>...</td>\n",
       "      <td>2</td>\n",
       "      <td>NO</td>\n",
       "      <td>63400</td>\n",
       "      <td>6340</td>\n",
       "      <td>6340</td>\n",
       "      <td>50720</td>\n",
       "      <td>Chevrolet</td>\n",
       "      <td>Tahoe</td>\n",
       "      <td>2014</td>\n",
       "      <td>Y</td>\n",
       "    </tr>\n",
       "    <tr>\n",
       "      <th>4</th>\n",
       "      <td>228</td>\n",
       "      <td>44</td>\n",
       "      <td>367455</td>\n",
       "      <td>6/6/2014</td>\n",
       "      <td>IL</td>\n",
       "      <td>500/1000</td>\n",
       "      <td>1000</td>\n",
       "      <td>1583.91</td>\n",
       "      <td>6000000</td>\n",
       "      <td>610706</td>\n",
       "      <td>...</td>\n",
       "      <td>1</td>\n",
       "      <td>NO</td>\n",
       "      <td>6500</td>\n",
       "      <td>1300</td>\n",
       "      <td>650</td>\n",
       "      <td>4550</td>\n",
       "      <td>Accura</td>\n",
       "      <td>RSX</td>\n",
       "      <td>2009</td>\n",
       "      <td>N</td>\n",
       "    </tr>\n",
       "  </tbody>\n",
       "</table>\n",
       "<p>5 rows × 39 columns</p>\n",
       "</div>"
      ],
      "text/plain": [
       "   months_as_customer  age  policy_number policy_bind_date policy_state  \\\n",
       "0                 328   48         521585       10/17/2014           OH   \n",
       "1                 228   42         342868        6/27/2006           IN   \n",
       "2                 134   29         687698         9/6/2000           OH   \n",
       "3                 256   41         227811        5/25/1990           IL   \n",
       "4                 228   44         367455         6/6/2014           IL   \n",
       "\n",
       "  policy_csl  policy_deductable  policy_annual_premium  umbrella_limit  \\\n",
       "0    250/500               1000                1406.91               0   \n",
       "1    250/500               2000                1197.22         5000000   \n",
       "2    100/300               2000                1413.14         5000000   \n",
       "3    250/500               2000                1415.74         6000000   \n",
       "4   500/1000               1000                1583.91         6000000   \n",
       "\n",
       "   insured_zip  ... witnesses police_report_available total_claim_amount  \\\n",
       "0       466132  ...         2                     YES              71610   \n",
       "1       468176  ...         0                       ?               5070   \n",
       "2       430632  ...         3                      NO              34650   \n",
       "3       608117  ...         2                      NO              63400   \n",
       "4       610706  ...         1                      NO               6500   \n",
       "\n",
       "  injury_claim property_claim  vehicle_claim  auto_make auto_model auto_year  \\\n",
       "0         6510          13020          52080       Saab        92x      2004   \n",
       "1          780            780           3510   Mercedes       E400      2007   \n",
       "2         7700           3850          23100      Dodge        RAM      2007   \n",
       "3         6340           6340          50720  Chevrolet      Tahoe      2014   \n",
       "4         1300            650           4550     Accura        RSX      2009   \n",
       "\n",
       "  fraud_reported  \n",
       "0              Y  \n",
       "1              Y  \n",
       "2              N  \n",
       "3              Y  \n",
       "4              N  \n",
       "\n",
       "[5 rows x 39 columns]"
      ]
     },
     "execution_count": 303,
     "metadata": {},
     "output_type": "execute_result"
    }
   ],
   "source": [
    "df = pd.read_csv('insuranceFraud.csv')\n",
    "df.head()"
   ]
  },
  {
   "cell_type": "code",
   "execution_count": 304,
   "metadata": {},
   "outputs": [],
   "source": [
    "df.drop(['age','total_claim_amount','policy_number','policy_bind_date','policy_state','insured_zip','incident_date','insured_hobbies','incident_state','incident_city','incident_location','auto_make','auto_model','auto_year'], axis = 1, inplace=True)"
   ]
  },
  {
   "cell_type": "code",
   "execution_count": 305,
   "metadata": {},
   "outputs": [
    {
     "name": "stdout",
     "output_type": "stream",
     "text": [
      "<class 'pandas.core.frame.DataFrame'>\n",
      "RangeIndex: 1000 entries, 0 to 999\n",
      "Data columns (total 25 columns):\n",
      " #   Column                       Non-Null Count  Dtype  \n",
      "---  ------                       --------------  -----  \n",
      " 0   months_as_customer           1000 non-null   int64  \n",
      " 1   policy_csl                   1000 non-null   object \n",
      " 2   policy_deductable            1000 non-null   int64  \n",
      " 3   policy_annual_premium        1000 non-null   float64\n",
      " 4   umbrella_limit               1000 non-null   int64  \n",
      " 5   insured_sex                  1000 non-null   object \n",
      " 6   insured_education_level      1000 non-null   object \n",
      " 7   insured_occupation           1000 non-null   object \n",
      " 8   insured_relationship         1000 non-null   object \n",
      " 9   capital-gains                1000 non-null   int64  \n",
      " 10  capital-loss                 1000 non-null   int64  \n",
      " 11  incident_type                1000 non-null   object \n",
      " 12  collision_type               1000 non-null   object \n",
      " 13  incident_severity            1000 non-null   object \n",
      " 14  authorities_contacted        1000 non-null   object \n",
      " 15  incident_hour_of_the_day     1000 non-null   int64  \n",
      " 16  number_of_vehicles_involved  1000 non-null   int64  \n",
      " 17  property_damage              1000 non-null   object \n",
      " 18  bodily_injuries              1000 non-null   int64  \n",
      " 19  witnesses                    1000 non-null   int64  \n",
      " 20  police_report_available      1000 non-null   object \n",
      " 21  injury_claim                 1000 non-null   int64  \n",
      " 22  property_claim               1000 non-null   int64  \n",
      " 23  vehicle_claim                1000 non-null   int64  \n",
      " 24  fraud_reported               1000 non-null   object \n",
      "dtypes: float64(1), int64(12), object(12)\n",
      "memory usage: 195.4+ KB\n"
     ]
    }
   ],
   "source": [
    "df.info()"
   ]
  },
  {
   "cell_type": "code",
   "execution_count": 306,
   "metadata": {},
   "outputs": [],
   "source": [
    "df = df.replace('?', np.nan)"
   ]
  },
  {
   "cell_type": "code",
   "execution_count": 307,
   "metadata": {},
   "outputs": [
    {
     "data": {
      "text/plain": [
       "months_as_customer               0\n",
       "policy_csl                       0\n",
       "policy_deductable                0\n",
       "policy_annual_premium            0\n",
       "umbrella_limit                   0\n",
       "insured_sex                      0\n",
       "insured_education_level          0\n",
       "insured_occupation               0\n",
       "insured_relationship             0\n",
       "capital-gains                    0\n",
       "capital-loss                     0\n",
       "incident_type                    0\n",
       "collision_type                 178\n",
       "incident_severity                0\n",
       "authorities_contacted            0\n",
       "incident_hour_of_the_day         0\n",
       "number_of_vehicles_involved      0\n",
       "property_damage                360\n",
       "bodily_injuries                  0\n",
       "witnesses                        0\n",
       "police_report_available        343\n",
       "injury_claim                     0\n",
       "property_claim                   0\n",
       "vehicle_claim                    0\n",
       "fraud_reported                   0\n",
       "dtype: int64"
      ]
     },
     "execution_count": 307,
     "metadata": {},
     "output_type": "execute_result"
    }
   ],
   "source": [
    "df.isnull().sum()"
   ]
  },
  {
   "cell_type": "code",
   "execution_count": 308,
   "metadata": {},
   "outputs": [],
   "source": [
    "df['collision_type'] = df['collision_type'].fillna(df['collision_type'].mode()[0])\n",
    "df['property_damage'] = df['property_damage'].fillna(df['property_damage'].mode()[0])\n",
    "df['police_report_available'] = df['police_report_available'].fillna(df['police_report_available'].mode()[0])"
   ]
  },
  {
   "cell_type": "code",
   "execution_count": 309,
   "metadata": {},
   "outputs": [],
   "source": [
    "cat_var = df.select_dtypes(include = 'object').copy()"
   ]
  },
  {
   "cell_type": "code",
   "execution_count": 310,
   "metadata": {},
   "outputs": [
    {
     "data": {
      "text/html": [
       "<div>\n",
       "<style scoped>\n",
       "    .dataframe tbody tr th:only-of-type {\n",
       "        vertical-align: middle;\n",
       "    }\n",
       "\n",
       "    .dataframe tbody tr th {\n",
       "        vertical-align: top;\n",
       "    }\n",
       "\n",
       "    .dataframe thead th {\n",
       "        text-align: right;\n",
       "    }\n",
       "</style>\n",
       "<table border=\"1\" class=\"dataframe\">\n",
       "  <thead>\n",
       "    <tr style=\"text-align: right;\">\n",
       "      <th></th>\n",
       "      <th>policy_csl</th>\n",
       "      <th>insured_sex</th>\n",
       "      <th>insured_education_level</th>\n",
       "      <th>insured_occupation</th>\n",
       "      <th>insured_relationship</th>\n",
       "      <th>incident_type</th>\n",
       "      <th>collision_type</th>\n",
       "      <th>incident_severity</th>\n",
       "      <th>authorities_contacted</th>\n",
       "      <th>property_damage</th>\n",
       "      <th>police_report_available</th>\n",
       "      <th>fraud_reported</th>\n",
       "    </tr>\n",
       "  </thead>\n",
       "  <tbody>\n",
       "    <tr>\n",
       "      <th>0</th>\n",
       "      <td>250/500</td>\n",
       "      <td>MALE</td>\n",
       "      <td>MD</td>\n",
       "      <td>craft-repair</td>\n",
       "      <td>husband</td>\n",
       "      <td>Single Vehicle Collision</td>\n",
       "      <td>Side Collision</td>\n",
       "      <td>Major Damage</td>\n",
       "      <td>Police</td>\n",
       "      <td>YES</td>\n",
       "      <td>YES</td>\n",
       "      <td>Y</td>\n",
       "    </tr>\n",
       "    <tr>\n",
       "      <th>1</th>\n",
       "      <td>250/500</td>\n",
       "      <td>MALE</td>\n",
       "      <td>MD</td>\n",
       "      <td>machine-op-inspct</td>\n",
       "      <td>other-relative</td>\n",
       "      <td>Vehicle Theft</td>\n",
       "      <td>Rear Collision</td>\n",
       "      <td>Minor Damage</td>\n",
       "      <td>Police</td>\n",
       "      <td>NO</td>\n",
       "      <td>NO</td>\n",
       "      <td>Y</td>\n",
       "    </tr>\n",
       "    <tr>\n",
       "      <th>2</th>\n",
       "      <td>100/300</td>\n",
       "      <td>FEMALE</td>\n",
       "      <td>PhD</td>\n",
       "      <td>sales</td>\n",
       "      <td>own-child</td>\n",
       "      <td>Multi-vehicle Collision</td>\n",
       "      <td>Rear Collision</td>\n",
       "      <td>Minor Damage</td>\n",
       "      <td>Police</td>\n",
       "      <td>NO</td>\n",
       "      <td>NO</td>\n",
       "      <td>N</td>\n",
       "    </tr>\n",
       "    <tr>\n",
       "      <th>3</th>\n",
       "      <td>250/500</td>\n",
       "      <td>FEMALE</td>\n",
       "      <td>PhD</td>\n",
       "      <td>armed-forces</td>\n",
       "      <td>unmarried</td>\n",
       "      <td>Single Vehicle Collision</td>\n",
       "      <td>Front Collision</td>\n",
       "      <td>Major Damage</td>\n",
       "      <td>Police</td>\n",
       "      <td>NO</td>\n",
       "      <td>NO</td>\n",
       "      <td>Y</td>\n",
       "    </tr>\n",
       "    <tr>\n",
       "      <th>4</th>\n",
       "      <td>500/1000</td>\n",
       "      <td>MALE</td>\n",
       "      <td>Associate</td>\n",
       "      <td>sales</td>\n",
       "      <td>unmarried</td>\n",
       "      <td>Vehicle Theft</td>\n",
       "      <td>Rear Collision</td>\n",
       "      <td>Minor Damage</td>\n",
       "      <td>None</td>\n",
       "      <td>NO</td>\n",
       "      <td>NO</td>\n",
       "      <td>N</td>\n",
       "    </tr>\n",
       "  </tbody>\n",
       "</table>\n",
       "</div>"
      ],
      "text/plain": [
       "  policy_csl insured_sex insured_education_level insured_occupation  \\\n",
       "0    250/500        MALE                      MD       craft-repair   \n",
       "1    250/500        MALE                      MD  machine-op-inspct   \n",
       "2    100/300      FEMALE                     PhD              sales   \n",
       "3    250/500      FEMALE                     PhD       armed-forces   \n",
       "4   500/1000        MALE               Associate              sales   \n",
       "\n",
       "  insured_relationship             incident_type   collision_type  \\\n",
       "0              husband  Single Vehicle Collision   Side Collision   \n",
       "1       other-relative             Vehicle Theft   Rear Collision   \n",
       "2            own-child   Multi-vehicle Collision   Rear Collision   \n",
       "3            unmarried  Single Vehicle Collision  Front Collision   \n",
       "4            unmarried             Vehicle Theft   Rear Collision   \n",
       "\n",
       "  incident_severity authorities_contacted property_damage  \\\n",
       "0      Major Damage                Police             YES   \n",
       "1      Minor Damage                Police              NO   \n",
       "2      Minor Damage                Police              NO   \n",
       "3      Major Damage                Police              NO   \n",
       "4      Minor Damage                  None              NO   \n",
       "\n",
       "  police_report_available fraud_reported  \n",
       "0                     YES              Y  \n",
       "1                      NO              Y  \n",
       "2                      NO              N  \n",
       "3                      NO              Y  \n",
       "4                      NO              N  "
      ]
     },
     "execution_count": 310,
     "metadata": {},
     "output_type": "execute_result"
    }
   ],
   "source": [
    "cat_var.head()"
   ]
  },
  {
   "cell_type": "code",
   "execution_count": 311,
   "metadata": {},
   "outputs": [
    {
     "data": {
      "text/plain": [
       "Index(['policy_csl', 'insured_sex', 'insured_education_level',\n",
       "       'insured_occupation', 'insured_relationship', 'incident_type',\n",
       "       'collision_type', 'incident_severity', 'authorities_contacted',\n",
       "       'property_damage', 'police_report_available', 'fraud_reported'],\n",
       "      dtype='object')"
      ]
     },
     "execution_count": 311,
     "metadata": {},
     "output_type": "execute_result"
    }
   ],
   "source": [
    "cat_var.columns"
   ]
  },
  {
   "cell_type": "code",
   "execution_count": 312,
   "metadata": {},
   "outputs": [
    {
     "data": {
      "text/plain": [
       "array(['250/500', '100/300', '500/1000'], dtype=object)"
      ]
     },
     "execution_count": 312,
     "metadata": {},
     "output_type": "execute_result"
    }
   ],
   "source": [
    "cat_var['policy_csl'].unique() "
   ]
  },
  {
   "cell_type": "code",
   "execution_count": 313,
   "metadata": {},
   "outputs": [
    {
     "data": {
      "text/plain": [
       "array(['MD', 'PhD', 'Associate', 'Masters', 'High School', 'College',\n",
       "       'JD'], dtype=object)"
      ]
     },
     "execution_count": 313,
     "metadata": {},
     "output_type": "execute_result"
    }
   ],
   "source": [
    "cat_var['insured_education_level'].unique() "
   ]
  },
  {
   "cell_type": "code",
   "execution_count": 314,
   "metadata": {},
   "outputs": [
    {
     "data": {
      "text/plain": [
       "array(['Major Damage', 'Minor Damage', 'Total Loss', 'Trivial Damage'],\n",
       "      dtype=object)"
      ]
     },
     "execution_count": 314,
     "metadata": {},
     "output_type": "execute_result"
    }
   ],
   "source": [
    "cat_var['incident_severity'].unique() "
   ]
  },
  {
   "cell_type": "code",
   "execution_count": 315,
   "metadata": {},
   "outputs": [],
   "source": [
    "# custom mapping for encoding\n",
    "cat_var['policy_csl'] = cat_var['policy_csl'].map({'100/300' : 1, '250/500' : 2.5 ,'500/1000':5})\n",
    "cat_var['insured_education_level'] = cat_var['insured_education_level'].map({'JD' : 1, 'High School' : 2,'College':3,'Masters':4,'Associate':5,'MD':6,'PhD':7})\n",
    "cat_var['incident_severity'] = cat_var['incident_severity'].map({'Trivial Damage' : 1, 'Minor Damage' : 2,'Major Damage':3,'Total Loss':4})"
   ]
  },
  {
   "cell_type": "code",
   "execution_count": 316,
   "metadata": {},
   "outputs": [],
   "source": [
    "cat_var = pd.get_dummies(cat_var, columns=['insured_sex', 'insured_occupation', 'insured_relationship', \n",
    "                                  'incident_type', 'collision_type', 'authorities_contacted',\n",
    "       'property_damage', 'police_report_available', 'fraud_reported'], drop_first= True)"
   ]
  },
  {
   "cell_type": "code",
   "execution_count": 317,
   "metadata": {},
   "outputs": [
    {
     "data": {
      "text/html": [
       "<div>\n",
       "<style scoped>\n",
       "    .dataframe tbody tr th:only-of-type {\n",
       "        vertical-align: middle;\n",
       "    }\n",
       "\n",
       "    .dataframe tbody tr th {\n",
       "        vertical-align: top;\n",
       "    }\n",
       "\n",
       "    .dataframe thead th {\n",
       "        text-align: right;\n",
       "    }\n",
       "</style>\n",
       "<table border=\"1\" class=\"dataframe\">\n",
       "  <thead>\n",
       "    <tr style=\"text-align: right;\">\n",
       "      <th></th>\n",
       "      <th>policy_csl</th>\n",
       "      <th>insured_education_level</th>\n",
       "      <th>incident_severity</th>\n",
       "      <th>insured_sex_MALE</th>\n",
       "      <th>insured_occupation_armed-forces</th>\n",
       "      <th>insured_occupation_craft-repair</th>\n",
       "      <th>insured_occupation_exec-managerial</th>\n",
       "      <th>insured_occupation_farming-fishing</th>\n",
       "      <th>insured_occupation_handlers-cleaners</th>\n",
       "      <th>insured_occupation_machine-op-inspct</th>\n",
       "      <th>...</th>\n",
       "      <th>incident_type_Vehicle Theft</th>\n",
       "      <th>collision_type_Rear Collision</th>\n",
       "      <th>collision_type_Side Collision</th>\n",
       "      <th>authorities_contacted_Fire</th>\n",
       "      <th>authorities_contacted_None</th>\n",
       "      <th>authorities_contacted_Other</th>\n",
       "      <th>authorities_contacted_Police</th>\n",
       "      <th>property_damage_YES</th>\n",
       "      <th>police_report_available_YES</th>\n",
       "      <th>fraud_reported_Y</th>\n",
       "    </tr>\n",
       "  </thead>\n",
       "  <tbody>\n",
       "    <tr>\n",
       "      <th>0</th>\n",
       "      <td>2.5</td>\n",
       "      <td>6</td>\n",
       "      <td>3</td>\n",
       "      <td>1</td>\n",
       "      <td>0</td>\n",
       "      <td>1</td>\n",
       "      <td>0</td>\n",
       "      <td>0</td>\n",
       "      <td>0</td>\n",
       "      <td>0</td>\n",
       "      <td>...</td>\n",
       "      <td>0</td>\n",
       "      <td>0</td>\n",
       "      <td>1</td>\n",
       "      <td>0</td>\n",
       "      <td>0</td>\n",
       "      <td>0</td>\n",
       "      <td>1</td>\n",
       "      <td>1</td>\n",
       "      <td>1</td>\n",
       "      <td>1</td>\n",
       "    </tr>\n",
       "    <tr>\n",
       "      <th>1</th>\n",
       "      <td>2.5</td>\n",
       "      <td>6</td>\n",
       "      <td>2</td>\n",
       "      <td>1</td>\n",
       "      <td>0</td>\n",
       "      <td>0</td>\n",
       "      <td>0</td>\n",
       "      <td>0</td>\n",
       "      <td>0</td>\n",
       "      <td>1</td>\n",
       "      <td>...</td>\n",
       "      <td>1</td>\n",
       "      <td>1</td>\n",
       "      <td>0</td>\n",
       "      <td>0</td>\n",
       "      <td>0</td>\n",
       "      <td>0</td>\n",
       "      <td>1</td>\n",
       "      <td>0</td>\n",
       "      <td>0</td>\n",
       "      <td>1</td>\n",
       "    </tr>\n",
       "    <tr>\n",
       "      <th>2</th>\n",
       "      <td>1.0</td>\n",
       "      <td>7</td>\n",
       "      <td>2</td>\n",
       "      <td>0</td>\n",
       "      <td>0</td>\n",
       "      <td>0</td>\n",
       "      <td>0</td>\n",
       "      <td>0</td>\n",
       "      <td>0</td>\n",
       "      <td>0</td>\n",
       "      <td>...</td>\n",
       "      <td>0</td>\n",
       "      <td>1</td>\n",
       "      <td>0</td>\n",
       "      <td>0</td>\n",
       "      <td>0</td>\n",
       "      <td>0</td>\n",
       "      <td>1</td>\n",
       "      <td>0</td>\n",
       "      <td>0</td>\n",
       "      <td>0</td>\n",
       "    </tr>\n",
       "    <tr>\n",
       "      <th>3</th>\n",
       "      <td>2.5</td>\n",
       "      <td>7</td>\n",
       "      <td>3</td>\n",
       "      <td>0</td>\n",
       "      <td>1</td>\n",
       "      <td>0</td>\n",
       "      <td>0</td>\n",
       "      <td>0</td>\n",
       "      <td>0</td>\n",
       "      <td>0</td>\n",
       "      <td>...</td>\n",
       "      <td>0</td>\n",
       "      <td>0</td>\n",
       "      <td>0</td>\n",
       "      <td>0</td>\n",
       "      <td>0</td>\n",
       "      <td>0</td>\n",
       "      <td>1</td>\n",
       "      <td>0</td>\n",
       "      <td>0</td>\n",
       "      <td>1</td>\n",
       "    </tr>\n",
       "    <tr>\n",
       "      <th>4</th>\n",
       "      <td>5.0</td>\n",
       "      <td>5</td>\n",
       "      <td>2</td>\n",
       "      <td>1</td>\n",
       "      <td>0</td>\n",
       "      <td>0</td>\n",
       "      <td>0</td>\n",
       "      <td>0</td>\n",
       "      <td>0</td>\n",
       "      <td>0</td>\n",
       "      <td>...</td>\n",
       "      <td>1</td>\n",
       "      <td>1</td>\n",
       "      <td>0</td>\n",
       "      <td>0</td>\n",
       "      <td>1</td>\n",
       "      <td>0</td>\n",
       "      <td>0</td>\n",
       "      <td>0</td>\n",
       "      <td>0</td>\n",
       "      <td>0</td>\n",
       "    </tr>\n",
       "  </tbody>\n",
       "</table>\n",
       "<p>5 rows × 34 columns</p>\n",
       "</div>"
      ],
      "text/plain": [
       "   policy_csl  insured_education_level  incident_severity  insured_sex_MALE  \\\n",
       "0         2.5                        6                  3                 1   \n",
       "1         2.5                        6                  2                 1   \n",
       "2         1.0                        7                  2                 0   \n",
       "3         2.5                        7                  3                 0   \n",
       "4         5.0                        5                  2                 1   \n",
       "\n",
       "   insured_occupation_armed-forces  insured_occupation_craft-repair  \\\n",
       "0                                0                                1   \n",
       "1                                0                                0   \n",
       "2                                0                                0   \n",
       "3                                1                                0   \n",
       "4                                0                                0   \n",
       "\n",
       "   insured_occupation_exec-managerial  insured_occupation_farming-fishing  \\\n",
       "0                                   0                                   0   \n",
       "1                                   0                                   0   \n",
       "2                                   0                                   0   \n",
       "3                                   0                                   0   \n",
       "4                                   0                                   0   \n",
       "\n",
       "   insured_occupation_handlers-cleaners  insured_occupation_machine-op-inspct  \\\n",
       "0                                     0                                     0   \n",
       "1                                     0                                     1   \n",
       "2                                     0                                     0   \n",
       "3                                     0                                     0   \n",
       "4                                     0                                     0   \n",
       "\n",
       "   ...  incident_type_Vehicle Theft  collision_type_Rear Collision  \\\n",
       "0  ...                            0                              0   \n",
       "1  ...                            1                              1   \n",
       "2  ...                            0                              1   \n",
       "3  ...                            0                              0   \n",
       "4  ...                            1                              1   \n",
       "\n",
       "   collision_type_Side Collision  authorities_contacted_Fire  \\\n",
       "0                              1                           0   \n",
       "1                              0                           0   \n",
       "2                              0                           0   \n",
       "3                              0                           0   \n",
       "4                              0                           0   \n",
       "\n",
       "   authorities_contacted_None  authorities_contacted_Other  \\\n",
       "0                           0                            0   \n",
       "1                           0                            0   \n",
       "2                           0                            0   \n",
       "3                           0                            0   \n",
       "4                           1                            0   \n",
       "\n",
       "   authorities_contacted_Police  property_damage_YES  \\\n",
       "0                             1                    1   \n",
       "1                             1                    0   \n",
       "2                             1                    0   \n",
       "3                             1                    0   \n",
       "4                             0                    0   \n",
       "\n",
       "   police_report_available_YES  fraud_reported_Y  \n",
       "0                            1                 1  \n",
       "1                            0                 1  \n",
       "2                            0                 0  \n",
       "3                            0                 1  \n",
       "4                            0                 0  \n",
       "\n",
       "[5 rows x 34 columns]"
      ]
     },
     "execution_count": 317,
     "metadata": {},
     "output_type": "execute_result"
    }
   ],
   "source": [
    "cat_var.head()"
   ]
  },
  {
   "cell_type": "code",
   "execution_count": 318,
   "metadata": {
    "scrolled": false
   },
   "outputs": [
    {
     "data": {
      "text/html": [
       "<div>\n",
       "<style scoped>\n",
       "    .dataframe tbody tr th:only-of-type {\n",
       "        vertical-align: middle;\n",
       "    }\n",
       "\n",
       "    .dataframe tbody tr th {\n",
       "        vertical-align: top;\n",
       "    }\n",
       "\n",
       "    .dataframe thead th {\n",
       "        text-align: right;\n",
       "    }\n",
       "</style>\n",
       "<table border=\"1\" class=\"dataframe\">\n",
       "  <thead>\n",
       "    <tr style=\"text-align: right;\">\n",
       "      <th></th>\n",
       "      <th>months_as_customer</th>\n",
       "      <th>policy_deductable</th>\n",
       "      <th>policy_annual_premium</th>\n",
       "      <th>umbrella_limit</th>\n",
       "      <th>capital-gains</th>\n",
       "      <th>capital-loss</th>\n",
       "      <th>incident_hour_of_the_day</th>\n",
       "      <th>number_of_vehicles_involved</th>\n",
       "      <th>bodily_injuries</th>\n",
       "      <th>witnesses</th>\n",
       "      <th>injury_claim</th>\n",
       "      <th>property_claim</th>\n",
       "      <th>vehicle_claim</th>\n",
       "    </tr>\n",
       "  </thead>\n",
       "  <tbody>\n",
       "    <tr>\n",
       "      <th>0</th>\n",
       "      <td>328</td>\n",
       "      <td>1000</td>\n",
       "      <td>1406.91</td>\n",
       "      <td>0</td>\n",
       "      <td>53300</td>\n",
       "      <td>0</td>\n",
       "      <td>5</td>\n",
       "      <td>1</td>\n",
       "      <td>1</td>\n",
       "      <td>2</td>\n",
       "      <td>6510</td>\n",
       "      <td>13020</td>\n",
       "      <td>52080</td>\n",
       "    </tr>\n",
       "    <tr>\n",
       "      <th>1</th>\n",
       "      <td>228</td>\n",
       "      <td>2000</td>\n",
       "      <td>1197.22</td>\n",
       "      <td>5000000</td>\n",
       "      <td>0</td>\n",
       "      <td>0</td>\n",
       "      <td>8</td>\n",
       "      <td>1</td>\n",
       "      <td>0</td>\n",
       "      <td>0</td>\n",
       "      <td>780</td>\n",
       "      <td>780</td>\n",
       "      <td>3510</td>\n",
       "    </tr>\n",
       "    <tr>\n",
       "      <th>2</th>\n",
       "      <td>134</td>\n",
       "      <td>2000</td>\n",
       "      <td>1413.14</td>\n",
       "      <td>5000000</td>\n",
       "      <td>35100</td>\n",
       "      <td>0</td>\n",
       "      <td>7</td>\n",
       "      <td>3</td>\n",
       "      <td>2</td>\n",
       "      <td>3</td>\n",
       "      <td>7700</td>\n",
       "      <td>3850</td>\n",
       "      <td>23100</td>\n",
       "    </tr>\n",
       "    <tr>\n",
       "      <th>3</th>\n",
       "      <td>256</td>\n",
       "      <td>2000</td>\n",
       "      <td>1415.74</td>\n",
       "      <td>6000000</td>\n",
       "      <td>48900</td>\n",
       "      <td>-62400</td>\n",
       "      <td>5</td>\n",
       "      <td>1</td>\n",
       "      <td>1</td>\n",
       "      <td>2</td>\n",
       "      <td>6340</td>\n",
       "      <td>6340</td>\n",
       "      <td>50720</td>\n",
       "    </tr>\n",
       "    <tr>\n",
       "      <th>4</th>\n",
       "      <td>228</td>\n",
       "      <td>1000</td>\n",
       "      <td>1583.91</td>\n",
       "      <td>6000000</td>\n",
       "      <td>66000</td>\n",
       "      <td>-46000</td>\n",
       "      <td>20</td>\n",
       "      <td>1</td>\n",
       "      <td>0</td>\n",
       "      <td>1</td>\n",
       "      <td>1300</td>\n",
       "      <td>650</td>\n",
       "      <td>4550</td>\n",
       "    </tr>\n",
       "  </tbody>\n",
       "</table>\n",
       "</div>"
      ],
      "text/plain": [
       "   months_as_customer  policy_deductable  policy_annual_premium  \\\n",
       "0                 328               1000                1406.91   \n",
       "1                 228               2000                1197.22   \n",
       "2                 134               2000                1413.14   \n",
       "3                 256               2000                1415.74   \n",
       "4                 228               1000                1583.91   \n",
       "\n",
       "   umbrella_limit  capital-gains  capital-loss  incident_hour_of_the_day  \\\n",
       "0               0          53300             0                         5   \n",
       "1         5000000              0             0                         8   \n",
       "2         5000000          35100             0                         7   \n",
       "3         6000000          48900        -62400                         5   \n",
       "4         6000000          66000        -46000                        20   \n",
       "\n",
       "   number_of_vehicles_involved  bodily_injuries  witnesses  injury_claim  \\\n",
       "0                            1                1          2          6510   \n",
       "1                            1                0          0           780   \n",
       "2                            3                2          3          7700   \n",
       "3                            1                1          2          6340   \n",
       "4                            1                0          1          1300   \n",
       "\n",
       "   property_claim  vehicle_claim  \n",
       "0           13020          52080  \n",
       "1             780           3510  \n",
       "2            3850          23100  \n",
       "3            6340          50720  \n",
       "4             650           4550  "
      ]
     },
     "execution_count": 318,
     "metadata": {},
     "output_type": "execute_result"
    }
   ],
   "source": [
    "num_var = df.select_dtypes(exclude='object').copy()\n",
    "num_var.head()"
   ]
  },
  {
   "cell_type": "code",
   "execution_count": 319,
   "metadata": {},
   "outputs": [
    {
     "data": {
      "text/plain": [
       "Index(['months_as_customer', 'policy_deductable', 'policy_annual_premium',\n",
       "       'umbrella_limit', 'capital-gains', 'capital-loss',\n",
       "       'incident_hour_of_the_day', 'number_of_vehicles_involved',\n",
       "       'bodily_injuries', 'witnesses', 'injury_claim', 'property_claim',\n",
       "       'vehicle_claim'],\n",
       "      dtype='object')"
      ]
     },
     "execution_count": 319,
     "metadata": {},
     "output_type": "execute_result"
    }
   ],
   "source": [
    "num_var.columns"
   ]
  },
  {
   "cell_type": "code",
   "execution_count": 320,
   "metadata": {},
   "outputs": [
    {
     "data": {
      "text/html": [
       "<div>\n",
       "<style scoped>\n",
       "    .dataframe tbody tr th:only-of-type {\n",
       "        vertical-align: middle;\n",
       "    }\n",
       "\n",
       "    .dataframe tbody tr th {\n",
       "        vertical-align: top;\n",
       "    }\n",
       "\n",
       "    .dataframe thead th {\n",
       "        text-align: right;\n",
       "    }\n",
       "</style>\n",
       "<table border=\"1\" class=\"dataframe\">\n",
       "  <thead>\n",
       "    <tr style=\"text-align: right;\">\n",
       "      <th></th>\n",
       "      <th>months_as_customer</th>\n",
       "      <th>policy_deductable</th>\n",
       "      <th>policy_annual_premium</th>\n",
       "      <th>umbrella_limit</th>\n",
       "      <th>capital-gains</th>\n",
       "      <th>capital-loss</th>\n",
       "      <th>incident_hour_of_the_day</th>\n",
       "      <th>number_of_vehicles_involved</th>\n",
       "      <th>bodily_injuries</th>\n",
       "      <th>witnesses</th>\n",
       "      <th>injury_claim</th>\n",
       "      <th>property_claim</th>\n",
       "      <th>vehicle_claim</th>\n",
       "    </tr>\n",
       "  </thead>\n",
       "  <tbody>\n",
       "    <tr>\n",
       "      <th>0</th>\n",
       "      <td>1.078140</td>\n",
       "      <td>-0.222383</td>\n",
       "      <td>0.616705</td>\n",
       "      <td>-0.479476</td>\n",
       "      <td>1.011331</td>\n",
       "      <td>0.953851</td>\n",
       "      <td>-0.956261</td>\n",
       "      <td>-0.823865</td>\n",
       "      <td>0.009759</td>\n",
       "      <td>0.461838</td>\n",
       "      <td>-0.189283</td>\n",
       "      <td>1.165505</td>\n",
       "      <td>0.749653</td>\n",
       "    </tr>\n",
       "    <tr>\n",
       "      <th>1</th>\n",
       "      <td>0.208995</td>\n",
       "      <td>1.412784</td>\n",
       "      <td>-0.242521</td>\n",
       "      <td>1.697980</td>\n",
       "      <td>-0.901927</td>\n",
       "      <td>0.953851</td>\n",
       "      <td>-0.524475</td>\n",
       "      <td>-0.823865</td>\n",
       "      <td>-1.210174</td>\n",
       "      <td>-1.338700</td>\n",
       "      <td>-1.363822</td>\n",
       "      <td>-1.372696</td>\n",
       "      <td>-1.823346</td>\n",
       "    </tr>\n",
       "    <tr>\n",
       "      <th>2</th>\n",
       "      <td>-0.608002</td>\n",
       "      <td>1.412784</td>\n",
       "      <td>0.642233</td>\n",
       "      <td>1.697980</td>\n",
       "      <td>0.358023</td>\n",
       "      <td>0.953851</td>\n",
       "      <td>-0.668404</td>\n",
       "      <td>1.140056</td>\n",
       "      <td>1.229693</td>\n",
       "      <td>1.362107</td>\n",
       "      <td>0.054644</td>\n",
       "      <td>-0.736072</td>\n",
       "      <td>-0.785565</td>\n",
       "    </tr>\n",
       "    <tr>\n",
       "      <th>3</th>\n",
       "      <td>0.452355</td>\n",
       "      <td>1.412784</td>\n",
       "      <td>0.652886</td>\n",
       "      <td>2.133471</td>\n",
       "      <td>0.853388</td>\n",
       "      <td>-1.267577</td>\n",
       "      <td>-0.956261</td>\n",
       "      <td>-0.823865</td>\n",
       "      <td>0.009759</td>\n",
       "      <td>0.461838</td>\n",
       "      <td>-0.224130</td>\n",
       "      <td>-0.219722</td>\n",
       "      <td>0.677607</td>\n",
       "    </tr>\n",
       "    <tr>\n",
       "      <th>4</th>\n",
       "      <td>0.208995</td>\n",
       "      <td>-0.222383</td>\n",
       "      <td>1.341980</td>\n",
       "      <td>2.133471</td>\n",
       "      <td>1.467210</td>\n",
       "      <td>-0.683741</td>\n",
       "      <td>1.202666</td>\n",
       "      <td>-0.823865</td>\n",
       "      <td>-1.210174</td>\n",
       "      <td>-0.438431</td>\n",
       "      <td>-1.257232</td>\n",
       "      <td>-1.399654</td>\n",
       "      <td>-1.768252</td>\n",
       "    </tr>\n",
       "  </tbody>\n",
       "</table>\n",
       "</div>"
      ],
      "text/plain": [
       "   months_as_customer  policy_deductable  policy_annual_premium  \\\n",
       "0            1.078140          -0.222383               0.616705   \n",
       "1            0.208995           1.412784              -0.242521   \n",
       "2           -0.608002           1.412784               0.642233   \n",
       "3            0.452355           1.412784               0.652886   \n",
       "4            0.208995          -0.222383               1.341980   \n",
       "\n",
       "   umbrella_limit  capital-gains  capital-loss  incident_hour_of_the_day  \\\n",
       "0       -0.479476       1.011331      0.953851                 -0.956261   \n",
       "1        1.697980      -0.901927      0.953851                 -0.524475   \n",
       "2        1.697980       0.358023      0.953851                 -0.668404   \n",
       "3        2.133471       0.853388     -1.267577                 -0.956261   \n",
       "4        2.133471       1.467210     -0.683741                  1.202666   \n",
       "\n",
       "   number_of_vehicles_involved  bodily_injuries  witnesses  injury_claim  \\\n",
       "0                    -0.823865         0.009759   0.461838     -0.189283   \n",
       "1                    -0.823865        -1.210174  -1.338700     -1.363822   \n",
       "2                     1.140056         1.229693   1.362107      0.054644   \n",
       "3                    -0.823865         0.009759   0.461838     -0.224130   \n",
       "4                    -0.823865        -1.210174  -0.438431     -1.257232   \n",
       "\n",
       "   property_claim  vehicle_claim  \n",
       "0        1.165505       0.749653  \n",
       "1       -1.372696      -1.823346  \n",
       "2       -0.736072      -0.785565  \n",
       "3       -0.219722       0.677607  \n",
       "4       -1.399654      -1.768252  "
      ]
     },
     "execution_count": 320,
     "metadata": {},
     "output_type": "execute_result"
    }
   ],
   "source": [
    "from sklearn.preprocessing import StandardScaler\n",
    "sc = StandardScaler()\n",
    "standard = sc.fit_transform(num_var)\n",
    "stand_sc = pd.DataFrame(data = standard, columns=num_var.columns)\n",
    "stand_sc.head()"
   ]
  },
  {
   "cell_type": "code",
   "execution_count": 321,
   "metadata": {
    "scrolled": true
   },
   "outputs": [
    {
     "data": {
      "text/plain": [
       "(1000, 13)"
      ]
     },
     "execution_count": 321,
     "metadata": {},
     "output_type": "execute_result"
    }
   ],
   "source": [
    "num_var.shape"
   ]
  },
  {
   "cell_type": "code",
   "execution_count": 322,
   "metadata": {},
   "outputs": [],
   "source": [
    "# combining the Numerical and categorical dataframes to get the final dataset\n",
    "final_df = pd.concat([cat_var, stand_sc], axis = 1)"
   ]
  },
  {
   "cell_type": "code",
   "execution_count": 323,
   "metadata": {
    "scrolled": true
   },
   "outputs": [
    {
     "data": {
      "text/html": [
       "<div>\n",
       "<style scoped>\n",
       "    .dataframe tbody tr th:only-of-type {\n",
       "        vertical-align: middle;\n",
       "    }\n",
       "\n",
       "    .dataframe tbody tr th {\n",
       "        vertical-align: top;\n",
       "    }\n",
       "\n",
       "    .dataframe thead th {\n",
       "        text-align: right;\n",
       "    }\n",
       "</style>\n",
       "<table border=\"1\" class=\"dataframe\">\n",
       "  <thead>\n",
       "    <tr style=\"text-align: right;\">\n",
       "      <th></th>\n",
       "      <th>policy_csl</th>\n",
       "      <th>insured_education_level</th>\n",
       "      <th>incident_severity</th>\n",
       "      <th>insured_sex_MALE</th>\n",
       "      <th>insured_occupation_armed-forces</th>\n",
       "      <th>insured_occupation_craft-repair</th>\n",
       "      <th>insured_occupation_exec-managerial</th>\n",
       "      <th>insured_occupation_farming-fishing</th>\n",
       "      <th>insured_occupation_handlers-cleaners</th>\n",
       "      <th>insured_occupation_machine-op-inspct</th>\n",
       "      <th>...</th>\n",
       "      <th>umbrella_limit</th>\n",
       "      <th>capital-gains</th>\n",
       "      <th>capital-loss</th>\n",
       "      <th>incident_hour_of_the_day</th>\n",
       "      <th>number_of_vehicles_involved</th>\n",
       "      <th>bodily_injuries</th>\n",
       "      <th>witnesses</th>\n",
       "      <th>injury_claim</th>\n",
       "      <th>property_claim</th>\n",
       "      <th>vehicle_claim</th>\n",
       "    </tr>\n",
       "  </thead>\n",
       "  <tbody>\n",
       "    <tr>\n",
       "      <th>0</th>\n",
       "      <td>2.5</td>\n",
       "      <td>6</td>\n",
       "      <td>3</td>\n",
       "      <td>1</td>\n",
       "      <td>0</td>\n",
       "      <td>1</td>\n",
       "      <td>0</td>\n",
       "      <td>0</td>\n",
       "      <td>0</td>\n",
       "      <td>0</td>\n",
       "      <td>...</td>\n",
       "      <td>-0.479476</td>\n",
       "      <td>1.011331</td>\n",
       "      <td>0.953851</td>\n",
       "      <td>-0.956261</td>\n",
       "      <td>-0.823865</td>\n",
       "      <td>0.009759</td>\n",
       "      <td>0.461838</td>\n",
       "      <td>-0.189283</td>\n",
       "      <td>1.165505</td>\n",
       "      <td>0.749653</td>\n",
       "    </tr>\n",
       "    <tr>\n",
       "      <th>1</th>\n",
       "      <td>2.5</td>\n",
       "      <td>6</td>\n",
       "      <td>2</td>\n",
       "      <td>1</td>\n",
       "      <td>0</td>\n",
       "      <td>0</td>\n",
       "      <td>0</td>\n",
       "      <td>0</td>\n",
       "      <td>0</td>\n",
       "      <td>1</td>\n",
       "      <td>...</td>\n",
       "      <td>1.697980</td>\n",
       "      <td>-0.901927</td>\n",
       "      <td>0.953851</td>\n",
       "      <td>-0.524475</td>\n",
       "      <td>-0.823865</td>\n",
       "      <td>-1.210174</td>\n",
       "      <td>-1.338700</td>\n",
       "      <td>-1.363822</td>\n",
       "      <td>-1.372696</td>\n",
       "      <td>-1.823346</td>\n",
       "    </tr>\n",
       "    <tr>\n",
       "      <th>2</th>\n",
       "      <td>1.0</td>\n",
       "      <td>7</td>\n",
       "      <td>2</td>\n",
       "      <td>0</td>\n",
       "      <td>0</td>\n",
       "      <td>0</td>\n",
       "      <td>0</td>\n",
       "      <td>0</td>\n",
       "      <td>0</td>\n",
       "      <td>0</td>\n",
       "      <td>...</td>\n",
       "      <td>1.697980</td>\n",
       "      <td>0.358023</td>\n",
       "      <td>0.953851</td>\n",
       "      <td>-0.668404</td>\n",
       "      <td>1.140056</td>\n",
       "      <td>1.229693</td>\n",
       "      <td>1.362107</td>\n",
       "      <td>0.054644</td>\n",
       "      <td>-0.736072</td>\n",
       "      <td>-0.785565</td>\n",
       "    </tr>\n",
       "    <tr>\n",
       "      <th>3</th>\n",
       "      <td>2.5</td>\n",
       "      <td>7</td>\n",
       "      <td>3</td>\n",
       "      <td>0</td>\n",
       "      <td>1</td>\n",
       "      <td>0</td>\n",
       "      <td>0</td>\n",
       "      <td>0</td>\n",
       "      <td>0</td>\n",
       "      <td>0</td>\n",
       "      <td>...</td>\n",
       "      <td>2.133471</td>\n",
       "      <td>0.853388</td>\n",
       "      <td>-1.267577</td>\n",
       "      <td>-0.956261</td>\n",
       "      <td>-0.823865</td>\n",
       "      <td>0.009759</td>\n",
       "      <td>0.461838</td>\n",
       "      <td>-0.224130</td>\n",
       "      <td>-0.219722</td>\n",
       "      <td>0.677607</td>\n",
       "    </tr>\n",
       "    <tr>\n",
       "      <th>4</th>\n",
       "      <td>5.0</td>\n",
       "      <td>5</td>\n",
       "      <td>2</td>\n",
       "      <td>1</td>\n",
       "      <td>0</td>\n",
       "      <td>0</td>\n",
       "      <td>0</td>\n",
       "      <td>0</td>\n",
       "      <td>0</td>\n",
       "      <td>0</td>\n",
       "      <td>...</td>\n",
       "      <td>2.133471</td>\n",
       "      <td>1.467210</td>\n",
       "      <td>-0.683741</td>\n",
       "      <td>1.202666</td>\n",
       "      <td>-0.823865</td>\n",
       "      <td>-1.210174</td>\n",
       "      <td>-0.438431</td>\n",
       "      <td>-1.257232</td>\n",
       "      <td>-1.399654</td>\n",
       "      <td>-1.768252</td>\n",
       "    </tr>\n",
       "  </tbody>\n",
       "</table>\n",
       "<p>5 rows × 47 columns</p>\n",
       "</div>"
      ],
      "text/plain": [
       "   policy_csl  insured_education_level  incident_severity  insured_sex_MALE  \\\n",
       "0         2.5                        6                  3                 1   \n",
       "1         2.5                        6                  2                 1   \n",
       "2         1.0                        7                  2                 0   \n",
       "3         2.5                        7                  3                 0   \n",
       "4         5.0                        5                  2                 1   \n",
       "\n",
       "   insured_occupation_armed-forces  insured_occupation_craft-repair  \\\n",
       "0                                0                                1   \n",
       "1                                0                                0   \n",
       "2                                0                                0   \n",
       "3                                1                                0   \n",
       "4                                0                                0   \n",
       "\n",
       "   insured_occupation_exec-managerial  insured_occupation_farming-fishing  \\\n",
       "0                                   0                                   0   \n",
       "1                                   0                                   0   \n",
       "2                                   0                                   0   \n",
       "3                                   0                                   0   \n",
       "4                                   0                                   0   \n",
       "\n",
       "   insured_occupation_handlers-cleaners  insured_occupation_machine-op-inspct  \\\n",
       "0                                     0                                     0   \n",
       "1                                     0                                     1   \n",
       "2                                     0                                     0   \n",
       "3                                     0                                     0   \n",
       "4                                     0                                     0   \n",
       "\n",
       "   ...  umbrella_limit  capital-gains  capital-loss  incident_hour_of_the_day  \\\n",
       "0  ...       -0.479476       1.011331      0.953851                 -0.956261   \n",
       "1  ...        1.697980      -0.901927      0.953851                 -0.524475   \n",
       "2  ...        1.697980       0.358023      0.953851                 -0.668404   \n",
       "3  ...        2.133471       0.853388     -1.267577                 -0.956261   \n",
       "4  ...        2.133471       1.467210     -0.683741                  1.202666   \n",
       "\n",
       "   number_of_vehicles_involved  bodily_injuries  witnesses  injury_claim  \\\n",
       "0                    -0.823865         0.009759   0.461838     -0.189283   \n",
       "1                    -0.823865        -1.210174  -1.338700     -1.363822   \n",
       "2                     1.140056         1.229693   1.362107      0.054644   \n",
       "3                    -0.823865         0.009759   0.461838     -0.224130   \n",
       "4                    -0.823865        -1.210174  -0.438431     -1.257232   \n",
       "\n",
       "   property_claim  vehicle_claim  \n",
       "0        1.165505       0.749653  \n",
       "1       -1.372696      -1.823346  \n",
       "2       -0.736072      -0.785565  \n",
       "3       -0.219722       0.677607  \n",
       "4       -1.399654      -1.768252  \n",
       "\n",
       "[5 rows x 47 columns]"
      ]
     },
     "execution_count": 323,
     "metadata": {},
     "output_type": "execute_result"
    }
   ],
   "source": [
    "final_df.head()"
   ]
  },
  {
   "cell_type": "code",
   "execution_count": 324,
   "metadata": {},
   "outputs": [
    {
     "name": "stdout",
     "output_type": "stream",
     "text": [
      "<class 'pandas.core.frame.DataFrame'>\n",
      "RangeIndex: 1000 entries, 0 to 999\n",
      "Data columns (total 47 columns):\n",
      " #   Column                                  Non-Null Count  Dtype  \n",
      "---  ------                                  --------------  -----  \n",
      " 0   policy_csl                              1000 non-null   float64\n",
      " 1   insured_education_level                 1000 non-null   int64  \n",
      " 2   incident_severity                       1000 non-null   int64  \n",
      " 3   insured_sex_MALE                        1000 non-null   uint8  \n",
      " 4   insured_occupation_armed-forces         1000 non-null   uint8  \n",
      " 5   insured_occupation_craft-repair         1000 non-null   uint8  \n",
      " 6   insured_occupation_exec-managerial      1000 non-null   uint8  \n",
      " 7   insured_occupation_farming-fishing      1000 non-null   uint8  \n",
      " 8   insured_occupation_handlers-cleaners    1000 non-null   uint8  \n",
      " 9   insured_occupation_machine-op-inspct    1000 non-null   uint8  \n",
      " 10  insured_occupation_other-service        1000 non-null   uint8  \n",
      " 11  insured_occupation_priv-house-serv      1000 non-null   uint8  \n",
      " 12  insured_occupation_prof-specialty       1000 non-null   uint8  \n",
      " 13  insured_occupation_protective-serv      1000 non-null   uint8  \n",
      " 14  insured_occupation_sales                1000 non-null   uint8  \n",
      " 15  insured_occupation_tech-support         1000 non-null   uint8  \n",
      " 16  insured_occupation_transport-moving     1000 non-null   uint8  \n",
      " 17  insured_relationship_not-in-family      1000 non-null   uint8  \n",
      " 18  insured_relationship_other-relative     1000 non-null   uint8  \n",
      " 19  insured_relationship_own-child          1000 non-null   uint8  \n",
      " 20  insured_relationship_unmarried          1000 non-null   uint8  \n",
      " 21  insured_relationship_wife               1000 non-null   uint8  \n",
      " 22  incident_type_Parked Car                1000 non-null   uint8  \n",
      " 23  incident_type_Single Vehicle Collision  1000 non-null   uint8  \n",
      " 24  incident_type_Vehicle Theft             1000 non-null   uint8  \n",
      " 25  collision_type_Rear Collision           1000 non-null   uint8  \n",
      " 26  collision_type_Side Collision           1000 non-null   uint8  \n",
      " 27  authorities_contacted_Fire              1000 non-null   uint8  \n",
      " 28  authorities_contacted_None              1000 non-null   uint8  \n",
      " 29  authorities_contacted_Other             1000 non-null   uint8  \n",
      " 30  authorities_contacted_Police            1000 non-null   uint8  \n",
      " 31  property_damage_YES                     1000 non-null   uint8  \n",
      " 32  police_report_available_YES             1000 non-null   uint8  \n",
      " 33  fraud_reported_Y                        1000 non-null   uint8  \n",
      " 34  months_as_customer                      1000 non-null   float64\n",
      " 35  policy_deductable                       1000 non-null   float64\n",
      " 36  policy_annual_premium                   1000 non-null   float64\n",
      " 37  umbrella_limit                          1000 non-null   float64\n",
      " 38  capital-gains                           1000 non-null   float64\n",
      " 39  capital-loss                            1000 non-null   float64\n",
      " 40  incident_hour_of_the_day                1000 non-null   float64\n",
      " 41  number_of_vehicles_involved             1000 non-null   float64\n",
      " 42  bodily_injuries                         1000 non-null   float64\n",
      " 43  witnesses                               1000 non-null   float64\n",
      " 44  injury_claim                            1000 non-null   float64\n",
      " 45  property_claim                          1000 non-null   float64\n",
      " 46  vehicle_claim                           1000 non-null   float64\n",
      "dtypes: float64(14), int64(2), uint8(31)\n",
      "memory usage: 155.4 KB\n"
     ]
    }
   ],
   "source": [
    "final_df.info()"
   ]
  },
  {
   "cell_type": "code",
   "execution_count": 325,
   "metadata": {},
   "outputs": [],
   "source": [
    "X = final_df.drop(['fraud_reported_Y'], axis = 1)\n",
    "y = final_df['fraud_reported_Y']"
   ]
  },
  {
   "cell_type": "code",
   "execution_count": 326,
   "metadata": {},
   "outputs": [],
   "source": [
    "X_train, X_test, y_train, y_test = train_test_split(X, y, test_size = 0.2, random_state = 42)"
   ]
  },
  {
   "cell_type": "code",
   "execution_count": 327,
   "metadata": {},
   "outputs": [
    {
     "data": {
      "text/plain": [
       "ExtraTreesClassifier(bootstrap=False, ccp_alpha=0.0, class_weight=None,\n",
       "                     criterion='gini', max_depth=None, max_features='auto',\n",
       "                     max_leaf_nodes=None, max_samples=None,\n",
       "                     min_impurity_decrease=0.0, min_impurity_split=None,\n",
       "                     min_samples_leaf=1, min_samples_split=2,\n",
       "                     min_weight_fraction_leaf=0.0, n_estimators=100,\n",
       "                     n_jobs=None, oob_score=False, random_state=None, verbose=0,\n",
       "                     warm_start=False)"
      ]
     },
     "execution_count": 327,
     "metadata": {},
     "output_type": "execute_result"
    }
   ],
   "source": [
    "from sklearn.ensemble import ExtraTreesClassifier\n",
    "extra = ExtraTreesClassifier()\n",
    "extra.fit(X, y)"
   ]
  },
  {
   "cell_type": "code",
   "execution_count": 328,
   "metadata": {},
   "outputs": [
    {
     "data": {
      "text/plain": [
       "array([0.02862501, 0.03478105, 0.13489477, 0.02181063, 0.01416763,\n",
       "       0.01148467, 0.01406532, 0.00914053, 0.01057014, 0.01217018,\n",
       "       0.0072259 , 0.00880624, 0.01008328, 0.00954683, 0.01104849,\n",
       "       0.01249508, 0.01012541, 0.01695787, 0.01563448, 0.01396229,\n",
       "       0.01376606, 0.01641995, 0.00438261, 0.01419704, 0.00608779,\n",
       "       0.02075176, 0.01653879, 0.01585233, 0.00678195, 0.01388208,\n",
       "       0.01582294, 0.02020448, 0.02145313, 0.03633492, 0.02724665,\n",
       "       0.03573053, 0.02307582, 0.02955295, 0.03068152, 0.03357365,\n",
       "       0.01744694, 0.02861883, 0.02781115, 0.03662887, 0.03992727,\n",
       "       0.03963417])"
      ]
     },
     "execution_count": 328,
     "metadata": {},
     "output_type": "execute_result"
    }
   ],
   "source": [
    "extra.feature_importances_"
   ]
  },
  {
   "cell_type": "code",
   "execution_count": 329,
   "metadata": {},
   "outputs": [
    {
     "data": {
      "text/plain": [
       "<matplotlib.axes._subplots.AxesSubplot at 0x1a68b0c5648>"
      ]
     },
     "execution_count": 329,
     "metadata": {},
     "output_type": "execute_result"
    },
    {
     "data": {
      "image/png": "[encoded data removed]",
      "text/plain": [
       "<Figure size 432x288 with 1 Axes>"
      ]
     },
     "metadata": {
      "needs_background": "light"
     },
     "output_type": "display_data"
    }
   ],
   "source": [
    "ser = pd.Series(extra.feature_importances_, index=X.columns)\n",
    "ser.nlargest(20).plot(kind = 'barh')"
   ]
  },
  {
   "cell_type": "code",
   "execution_count": 330,
   "metadata": {},
   "outputs": [
    {
     "data": {
      "text/plain": [
       "XGBClassifier(base_score=0.5, booster=None, colsample_bylevel=1,\n",
       "              colsample_bynode=1, colsample_bytree=1, gamma=0, gpu_id=-1,\n",
       "              importance_type='gain', interaction_constraints=None,\n",
       "              learning_rate=0.300000012, max_delta_step=0, max_depth=6,\n",
       "              min_child_weight=1, missing=nan, monotone_constraints=None,\n",
       "              n_estimators=100, n_jobs=0, num_parallel_tree=1,\n",
       "              objective='binary:logistic', random_state=0, reg_alpha=0,\n",
       "              reg_lambda=1, scale_pos_weight=1, subsample=1, tree_method=None,\n",
       "              validate_parameters=False, verbosity=None)"
      ]
     },
     "execution_count": 330,
     "metadata": {},
     "output_type": "execute_result"
    }
   ],
   "source": [
    "from xgboost import XGBClassifier\n",
    "xgb = XGBClassifier()\n",
    "xgb.fit(X_train, y_train)"
   ]
  },
  {
   "cell_type": "code",
   "execution_count": 331,
   "metadata": {},
   "outputs": [],
   "source": [
    "y_pred = xgb.predict(X_test)"
   ]
  },
  {
   "cell_type": "code",
   "execution_count": 332,
   "metadata": {},
   "outputs": [
    {
     "data": {
      "text/plain": [
       "0.725"
      ]
     },
     "execution_count": 332,
     "metadata": {},
     "output_type": "execute_result"
    }
   ],
   "source": [
    "accuracy_score(y_test, y_pred)"
   ]
  },
  {
   "cell_type": "code",
   "execution_count": 333,
   "metadata": {},
   "outputs": [
    {
     "data": {
      "text/plain": [
       "1.0"
      ]
     },
     "execution_count": 333,
     "metadata": {},
     "output_type": "execute_result"
    }
   ],
   "source": [
    "xgb.score(X_train, y_train)"
   ]
  },
  {
   "cell_type": "code",
   "execution_count": 334,
   "metadata": {},
   "outputs": [
    {
     "data": {
      "text/plain": [
       "0.725"
      ]
     },
     "execution_count": 334,
     "metadata": {},
     "output_type": "execute_result"
    }
   ],
   "source": [
    "xgb.score(X_test, y_test)"
   ]
  },
  {
   "cell_type": "code",
   "execution_count": 335,
   "metadata": {},
   "outputs": [
    {
     "data": {
      "text/plain": [
       "array([[128,  17],\n",
       "       [ 38,  17]], dtype=int64)"
      ]
     },
     "execution_count": 335,
     "metadata": {},
     "output_type": "execute_result"
    }
   ],
   "source": [
    "confusion_matrix(y_test, y_pred)"
   ]
  },
  {
   "cell_type": "code",
   "execution_count": 336,
   "metadata": {},
   "outputs": [],
   "source": [
    "from sklearn.model_selection import GridSearchCV\n",
    "param_grid = {\"n_estimators\": [10, 50, 100, 130], \"criterion\": ['gini', 'entropy'],\n",
    "                               \"max_depth\": range(2, 10, 1)}\n",
    "\n",
    "            #Creating an object of the Grid Search class\n",
    "grid = GridSearchCV(estimator=xgb, param_grid=param_grid, cv=5,  verbose=3,n_jobs=-1)"
   ]
  },
  {
   "cell_type": "code",
   "execution_count": 337,
   "metadata": {},
   "outputs": [
    {
     "name": "stdout",
     "output_type": "stream",
     "text": [
      "Fitting 5 folds for each of 64 candidates, totalling 320 fits\n"
     ]
    },
    {
     "name": "stderr",
     "output_type": "stream",
     "text": [
      "[Parallel(n_jobs=-1)]: Using backend LokyBackend with 4 concurrent workers.\n",
      "[Parallel(n_jobs=-1)]: Done  24 tasks      | elapsed:   10.9s\n",
      "[Parallel(n_jobs=-1)]: Done 120 tasks      | elapsed:   27.2s\n",
      "[Parallel(n_jobs=-1)]: Done 280 tasks      | elapsed:   51.3s\n",
      "[Parallel(n_jobs=-1)]: Done 320 out of 320 | elapsed:   59.3s finished\n"
     ]
    },
    {
     "data": {
      "text/plain": [
       "GridSearchCV(cv=5, error_score=nan,\n",
       "             estimator=XGBClassifier(base_score=0.5, booster=None,\n",
       "                                     colsample_bylevel=1, colsample_bynode=1,\n",
       "                                     colsample_bytree=1, gamma=0, gpu_id=-1,\n",
       "                                     importance_type='gain',\n",
       "                                     interaction_constraints=None,\n",
       "                                     learning_rate=0.300000012,\n",
       "                                     max_delta_step=0, max_depth=6,\n",
       "                                     min_child_weight=1, missing=nan,\n",
       "                                     monotone_constraints=None,\n",
       "                                     n_estimators=100, n_jobs=...\n",
       "                                     objective='binary:logistic',\n",
       "                                     random_state=0, reg_alpha=0, reg_lambda=1,\n",
       "                                     scale_pos_weight=1, subsample=1,\n",
       "                                     tree_method=None,\n",
       "                                     validate_parameters=False,\n",
       "                                     verbosity=None),\n",
       "             iid='deprecated', n_jobs=-1,\n",
       "             param_grid={'criterion': ['gini', 'entropy'],\n",
       "                         'max_depth': range(2, 10),\n",
       "                         'n_estimators': [10, 50, 100, 130]},\n",
       "             pre_dispatch='2*n_jobs', refit=True, return_train_score=False,\n",
       "             scoring=None, verbose=3)"
      ]
     },
     "execution_count": 337,
     "metadata": {},
     "output_type": "execute_result"
    }
   ],
   "source": [
    "#finding the best parameters\n",
    "grid.fit(X_train, y_train)"
   ]
  },
  {
   "cell_type": "code",
   "execution_count": 338,
   "metadata": {},
   "outputs": [
    {
     "data": {
      "text/plain": [
       "XGBClassifier(base_score=0.5, booster=None, colsample_bylevel=1,\n",
       "              colsample_bynode=1, colsample_bytree=1, criterion='gini', gamma=0,\n",
       "              gpu_id=-1, importance_type='gain', interaction_constraints=None,\n",
       "              learning_rate=0.300000012, max_delta_step=0, max_depth=2,\n",
       "              min_child_weight=1, missing=nan, monotone_constraints=None,\n",
       "              n_estimators=10, n_jobs=0, num_parallel_tree=1,\n",
       "              objective='binary:logistic', random_state=0, reg_alpha=0,\n",
       "              reg_lambda=1, scale_pos_weight=1, subsample=1, tree_method=None,\n",
       "              validate_parameters=False, verbosity=None)"
      ]
     },
     "execution_count": 338,
     "metadata": {},
     "output_type": "execute_result"
    }
   ],
   "source": [
    "grid.best_estimator_"
   ]
  },
  {
   "cell_type": "code",
   "execution_count": 339,
   "metadata": {},
   "outputs": [
    {
     "data": {
      "text/plain": [
       "0.81125"
      ]
     },
     "execution_count": 339,
     "metadata": {},
     "output_type": "execute_result"
    }
   ],
   "source": [
    "grid.best_score_"
   ]
  },
  {
   "cell_type": "code",
   "execution_count": 340,
   "metadata": {},
   "outputs": [
    {
     "data": {
      "text/plain": [
       "{'criterion': 'gini', 'max_depth': 2, 'n_estimators': 10}"
      ]
     },
     "execution_count": 340,
     "metadata": {},
     "output_type": "execute_result"
    }
   ],
   "source": [
    "grid.best_params_"
   ]
  },
  {
   "cell_type": "code",
   "execution_count": 341,
   "metadata": {},
   "outputs": [],
   "source": [
    "grid_pred = grid.predict(X_test)"
   ]
  },
  {
   "cell_type": "code",
   "execution_count": 342,
   "metadata": {},
   "outputs": [
    {
     "data": {
      "text/plain": [
       "0.75"
      ]
     },
     "execution_count": 342,
     "metadata": {},
     "output_type": "execute_result"
    }
   ],
   "source": [
    "accuracy_score(grid_pred, y_test)"
   ]
  },
  {
   "cell_type": "code",
   "execution_count": 343,
   "metadata": {},
   "outputs": [
    {
     "data": {
      "text/plain": [
       "0.825"
      ]
     },
     "execution_count": 343,
     "metadata": {},
     "output_type": "execute_result"
    }
   ],
   "source": [
    "grid.score(X_train, y_train)"
   ]
  },
  {
   "cell_type": "code",
   "execution_count": 344,
   "metadata": {},
   "outputs": [
    {
     "data": {
      "text/plain": [
       "0.75"
      ]
     },
     "execution_count": 344,
     "metadata": {},
     "output_type": "execute_result"
    }
   ],
   "source": [
    "grid.score(X_test, y_test)"
   ]
  },
  {
   "cell_type": "code",
   "execution_count": null,
   "metadata": {},
   "outputs": [],
   "source": []
  },
  {
   "cell_type": "code",
   "execution_count": null,
   "metadata": {},
   "outputs": [],
   "source": [
    "\n"
   ]
  }
 ],
 "metadata": {
  "kernelspec": {
   "display_name": "Python 3",
   "language": "python",
   "name": "python3"
  },
  "language_info": {
   "codemirror_mode": {
    "name": "ipython",
    "version": 3
   },
   "file_extension": ".py",
   "mimetype": "text/x-python",
   "name": "python",
   "nbconvert_exporter": "python",
   "pygments_lexer": "ipython3",
   "version": "3.7.6"
  }
 },
 "nbformat": 4,
 "nbformat_minor": 4
}
